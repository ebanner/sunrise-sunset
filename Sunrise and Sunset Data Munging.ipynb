{
 "cells": [
  {
   "cell_type": "markdown",
   "id": "c4843190",
   "metadata": {},
   "source": [
    "# Read HTML"
   ]
  },
  {
   "cell_type": "code",
   "execution_count": null,
   "id": "a6eaf904",
   "metadata": {},
   "outputs": [],
   "source": [
    "from bs4 import BeautifulSoup\n",
    "from lxml import etree, html\n",
    "\n",
    "from lib import get_sunrises, get_sunsets, get_num_days\n",
    "\n",
    "import pandas as pd\n",
    "\n",
    "city = 'albany'\n",
    "\n",
    "concat_df = pd.DataFrame()\n",
    "for i in range(1, 12+1):\n",
    "    lines = open(f'{city}/{i}.html').readlines()\n",
    "    html_doc = ''.join(lines)\n",
    "\n",
    "    soup = BeautifulSoup(html_doc, 'html.parser')\n",
    "    table = html.fromstring(str(soup))\n",
    "    \n",
    "    print(f'Month {i} -> Num Days = {get_num_days(table)}')\n",
    "\n",
    "    df = pd.DataFrame(list(zip(get_sunrises(table), get_sunsets(table))), columns=['sunrise', 'sunset'])\n",
    "    df['month'] = i\n",
    "    df['day'] = range(1, len(df)+1)\n",
    "    df['city'] = city\n",
    "\n",
    "    concat_df = pd.concat([concat_df, df])"
   ]
  },
  {
   "cell_type": "code",
   "execution_count": null,
   "id": "db905e9c",
   "metadata": {},
   "outputs": [],
   "source": [
    "from bs4 import BeautifulSoup\n",
    "from lxml import etree, html\n",
    "\n",
    "from lib import get_sunrises, get_sunsets, get_num_days\n",
    "\n",
    "import pandas as pd\n",
    "\n",
    "city = 'dunedin'\n",
    "\n",
    "for i in range(1, 12+1):\n",
    "    lines = open(f'{city}/{i}.html').readlines()\n",
    "    html_doc = ''.join(lines)\n",
    "\n",
    "    soup = BeautifulSoup(html_doc, 'html.parser')\n",
    "    table = html.fromstring(str(soup))\n",
    "    \n",
    "    print(f'Month {i} -> Num Days = {get_num_days(table)}')\n",
    "\n",
    "    df = pd.DataFrame(list(zip(get_sunrises(table), get_sunsets(table))), columns=['sunrise', 'sunset'])\n",
    "    df['month'] = i\n",
    "    df['day'] = range(1, len(df)+1)\n",
    "    df['city'] = city\n",
    "\n",
    "    concat_df = pd.concat([concat_df, df])"
   ]
  },
  {
   "attachments": {},
   "cell_type": "markdown",
   "id": "b5931716",
   "metadata": {},
   "source": [
    "# Output to CSV"
   ]
  },
  {
   "cell_type": "code",
   "execution_count": null,
   "id": "4bcd7beb",
   "metadata": {},
   "outputs": [],
   "source": [
    "# Output concat_df to CSV\n",
    "\n",
    "concat_df.to_csv('sunrise_sunset.csv', index=False)\n",
    "\n",
    "!head sunrise_sunset.csv"
   ]
  }
 ],
 "metadata": {
  "kernelspec": {
   "display_name": "Python 3",
   "language": "python",
   "name": "python3"
  },
  "language_info": {
   "codemirror_mode": {
    "name": "ipython",
    "version": 3
   },
   "file_extension": ".py",
   "mimetype": "text/x-python",
   "name": "python",
   "nbconvert_exporter": "python",
   "pygments_lexer": "ipython3",
   "version": "3.11.3"
  }
 },
 "nbformat": 4,
 "nbformat_minor": 5
}
